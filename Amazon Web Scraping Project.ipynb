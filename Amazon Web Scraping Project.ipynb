{
 "cells": [
  {
   "cell_type": "code",
   "execution_count": 1,
   "id": "young-intention",
   "metadata": {},
   "outputs": [],
   "source": [
    "#import libraries\n",
    "from bs4 import BeautifulSoup\n",
    "import requests\n",
    "import smtplib #sending emails to yourself\n",
    "import time\n",
    "import datetime"
   ]
  },
  {
   "cell_type": "code",
   "execution_count": 2,
   "id": "informed-sister",
   "metadata": {},
   "outputs": [
    {
     "name": "stdout",
     "output_type": "stream",
     "text": [
      "\n",
      "                   15.6'' Laptop Bag for Women - Set of 2 Shock Absorbent Computer Briefcase Genuine Leather Canvas Messenger Bag with USB Pink\n",
      "                  \n",
      "\n",
      "                         $36.99\n",
      "                        \n",
      "\n",
      "                    7 ratings\n",
      "                   \n"
     ]
    }
   ],
   "source": [
    "#connect to website\n",
    "\n",
    "URL = 'https://www.amazon.com/15-6-Laptop-Bag-Women-Absorbent/dp/B09MB74LLK/ref=sr_1_47?crid=KRCYLAK8294&keywords=bags+for+women&qid=1644736773&sprefix=bags+for+wome%2Caps%2C642&sr=8-47'\n",
    "\n",
    "headers = {\"User-Agent\": \"Mozilla/5.0 (Windows NT 10.0; Win64; x64) AppleWebKit/537.36 (KHTML, like Gecko) Chrome/78.0.3904.108 Safari/537.36\", \"Accept-Encoding\":\"gzip, deflate\", \"Accept\":\"text/html,application/xhtml+xml,application/xml;q=0.9,*/*;q=0.8\", \"DNT\":\"1\",\"Connection\":\"close\", \"Upgrade-Insecure-Requests\":\"1\"}\n",
    "\n",
    "page = requests.get(URL, headers=headers) #to get the data\n",
    "\n",
    "soup1 = BeautifulSoup(page.content, \"html.parser\") #pulling all the html content(html doctype from inspect window) \n",
    "\n",
    "soup2 = BeautifulSoup(soup1.prettify(), \"html.parser\") #prettify() for enhancing the format\n",
    "\n",
    "title = soup2.find(id='productTitle').get_text()\n",
    "\n",
    "price = soup2.find(id='price_inside_buybox').get_text()\n",
    "\n",
    "ratings = soup2.find(id='acrCustomerReviewText').get_text()\n",
    "\n",
    "\n",
    "\n",
    "\n",
    "print(title)\n",
    "print(price)\n",
    "print(ratings)"
   ]
  },
  {
   "cell_type": "code",
   "execution_count": 3,
   "id": "compound-pound",
   "metadata": {},
   "outputs": [
    {
     "name": "stdout",
     "output_type": "stream",
     "text": [
      "15.6'' Laptop Bag for Women - Set of 2 Shock Absorbent Computer Briefcase Genuine Leather Canvas Messenger Bag with USB Pink\n",
      "36.99\n",
      "7 ratings\n"
     ]
    }
   ],
   "source": [
    "price=price.strip()[1:] #to remove the dollar sign from price, use [1:], and to remove whitespaces use strip()\n",
    "title=title.strip()\n",
    "ratings=ratings.strip()\n",
    "print(title)\n",
    "print(price)\n",
    "print(ratings)\n",
    "#type(price) #price is in string type"
   ]
  },
  {
   "cell_type": "code",
   "execution_count": 4,
   "id": "assured-organizer",
   "metadata": {},
   "outputs": [
    {
     "name": "stdout",
     "output_type": "stream",
     "text": [
      "2022-02-13\n"
     ]
    }
   ],
   "source": [
    "import datetime\n",
    "\n",
    "today=datetime.date.today()\n",
    "\n",
    "print(today)"
   ]
  },
  {
   "cell_type": "code",
   "execution_count": 5,
   "id": "excessive-legend",
   "metadata": {},
   "outputs": [],
   "source": [
    "import csv\n",
    "\n",
    "header = ['Title', 'Price', 'Ratings', 'Date']\n",
    "\n",
    "data = [title, price, ratings, today] #a list\n",
    "\n",
    "with open('AmazonWebScraping.csv', 'w', newline='', encoding='UTF8') as f:\n",
    "    writer=csv.writer(f)\n",
    "    writer.writerow(header) #inserting the headers in the csv file\n",
    "    writer.writerow(data)\n",
    "    "
   ]
  },
  {
   "cell_type": "code",
   "execution_count": 6,
   "id": "hindu-colombia",
   "metadata": {},
   "outputs": [
    {
     "name": "stdout",
     "output_type": "stream",
     "text": [
      "                                               Title  Price    Ratings  \\\n",
      "0  15.6'' Laptop Bag for Women - Set of 2 Shock A...  36.99  7 ratings   \n",
      "\n",
      "         Date  \n",
      "0  2022-02-13  \n"
     ]
    }
   ],
   "source": [
    "import pandas as pd\n",
    "\n",
    "df=pd.read_csv(r'C:\\Program Files\\Python38\\Scripts\\AmazonWebScraping.csv')\n",
    "\n",
    "print(df) #the data gets appended after you run the next cell 4 times, so the product details are shown 4 times"
   ]
  },
  {
   "cell_type": "code",
   "execution_count": 7,
   "id": "coupled-panel",
   "metadata": {},
   "outputs": [],
   "source": [
    "#append data to csv\n",
    "#a+ for appending the data\n",
    "\n",
    "with open('AmazonWebScraping.csv', 'a+', newline='', encoding='UTF8') as f:\n",
    "    writer=csv.writer(f)\n",
    "    writer.writerow(data)"
   ]
  },
  {
   "cell_type": "code",
   "execution_count": 11,
   "id": "opposed-armenia",
   "metadata": {},
   "outputs": [],
   "source": [
    "#automation of the whole process\n",
    "\n",
    "def check_price():\n",
    "    URL = 'https://www.amazon.com/15-6-Laptop-Bag-Women-Absorbent/dp/B09MB74LLK/ref=sr_1_47?crid=KRCYLAK8294&keywords=bags+for+women&qid=1644736773&sprefix=bags+for+wome%2Caps%2C642&sr=8-47'\n",
    "\n",
    "    headers = {\"User-Agent\": \"Mozilla/5.0 (Windows NT 10.0; Win64; x64) AppleWebKit/537.36 (KHTML, like Gecko) Chrome/78.0.3904.108 Safari/537.36\", \"Accept-Encoding\":\"gzip, deflate\", \"Accept\":\"text/html,application/xhtml+xml,application/xml;q=0.9,*/*;q=0.8\", \"DNT\":\"1\",\"Connection\":\"close\", \"Upgrade-Insecure-Requests\":\"1\"}\n",
    "\n",
    "    page = requests.get(URL, headers=headers) #to get the data\n",
    "\n",
    "    soup1 = BeautifulSoup(page.content, \"html.parser\") #pulling all the html content(html doctype from inspect window) \n",
    "\n",
    "    soup2 = BeautifulSoup(soup1.prettify(), \"html.parser\") #prettify() for enhancing the format\n",
    "\n",
    "    title = soup2.find(id='productTitle').get_text()\n",
    "\n",
    "    price = soup2.find(id='price_inside_buybox').get_text()\n",
    "    \n",
    "    ratings = soup2.find(id='acrCustomerReviewText').get_text()\n",
    "    \n",
    "    price=price.strip()[1:] #to remove the dollar sign from price, use [1:], and to remove whitespaces use strip()\n",
    "    title=title.strip()\n",
    "    ratings=ratings.strip()\n",
    "    \n",
    "    import datetime\n",
    "\n",
    "    today=datetime.date.today()\n",
    "    \n",
    "    import csv\n",
    "\n",
    "    header = ['Title', 'Price', 'Ratings', 'Date']\n",
    "\n",
    "    data = [title, price, ratings, today] #a list\n",
    "    \n",
    "    with open('AmazonWebScraping.csv', 'a+', newline='', encoding='UTF8') as f:\n",
    "        writer=csv.writer(f)\n",
    "        writer.writerow(data)\n",
    "\n",
    "    "
   ]
  },
  {
   "cell_type": "code",
   "execution_count": null,
   "id": "mysterious-fountain",
   "metadata": {},
   "outputs": [],
   "source": [
    "while(True):\n",
    "    check_price()\n",
    "    time.sleep(86400) #every 5 secs, it will run the previous process, (60x60=3600x24=86400) it will check the price daily"
   ]
  },
  {
   "cell_type": "code",
   "execution_count": 9,
   "id": "collectible-victor",
   "metadata": {},
   "outputs": [
    {
     "name": "stdout",
     "output_type": "stream",
     "text": [
      "                                               Title  Price    Ratings  \\\n",
      "0  15.6'' Laptop Bag for Women - Set of 2 Shock A...  36.99  7 ratings   \n",
      "1  15.6'' Laptop Bag for Women - Set of 2 Shock A...  36.99  7 ratings   \n",
      "\n",
      "         Date  \n",
      "0  2022-02-13  \n",
      "1  2022-02-13  \n"
     ]
    }
   ],
   "source": [
    "import pandas as pd\n",
    "\n",
    "df=pd.read_csv(r'C:\\Program Files\\Python38\\Scripts\\AmazonWebScraping.csv')\n",
    "\n",
    "print(df)"
   ]
  },
  {
   "cell_type": "code",
   "execution_count": 10,
   "id": "informed-guitar",
   "metadata": {},
   "outputs": [],
   "source": [
    "# If uou want to try sending yourself an email (just for fun) when a price hits below a certain level you can try it\n",
    "# out with this script\n",
    "\n",
    "def send_mail():\n",
    "    server = smtplib.SMTP_SSL('smtp.gmail.com',465)\n",
    "    server.ehlo()\n",
    "    #server.starttls()\n",
    "    server.ehlo()\n",
    "    server.login('anabhatoman@gmail.com','xxxxxxxxxxxxxx')\n",
    "    \n",
    "    subject = \"The bag you want is below $15! Now is your chance to buy!\"\n",
    "    body = \"Ananya, This is the moment we have been waiting for. Now is your chance to pick up the bag of your dreams. Don't mess it up! Link here: https://www.amazon.com/15-6-Laptop-Bag-Women-Absorbent/dp/B09MB74LLK/ref=sr_1_47?crid=KRCYLAK8294&keywords=bags+for+women&qid=1644736773&sprefix=bags+for+wome%2Caps%2C642&sr=8-47\"\n",
    "   \n",
    "    msg = f\"Subject: {subject}\\n\\n{body}\"\n",
    "    \n",
    "    server.sendmail(\n",
    "        'anabhatoman@gmail.com',\n",
    "        msg\n",
    "     \n",
    "    )\n",
    "    "
   ]
  },
  {
   "cell_type": "code",
   "execution_count": null,
   "id": "basic-algebra",
   "metadata": {},
   "outputs": [],
   "source": []
  }
 ],
 "metadata": {
  "kernelspec": {
   "display_name": "Python 3",
   "language": "python",
   "name": "python3"
  },
  "language_info": {
   "codemirror_mode": {
    "name": "ipython",
    "version": 3
   },
   "file_extension": ".py",
   "mimetype": "text/x-python",
   "name": "python",
   "nbconvert_exporter": "python",
   "pygments_lexer": "ipython3",
   "version": "3.8.8"
  }
 },
 "nbformat": 4,
 "nbformat_minor": 5
}
